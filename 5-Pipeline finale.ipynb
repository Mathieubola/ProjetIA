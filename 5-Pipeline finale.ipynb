{
 "cells": [
  {
   "cell_type": "code",
   "execution_count": 71,
   "metadata": {},
   "outputs": [],
   "source": [
    "import pandas as pd\n",
    "import numpy as np\n",
    "import matplotlib.pyplot as plt\n",
    "\n",
    "from sklearn.ensemble import RandomForestClassifier\n",
    "from sklearn.model_selection import train_test_split\n",
    "\n",
    "import warnings\n",
    "warnings.filterwarnings(action='ignore')\n",
    "\n",
    "md = pd.read_excel(\"./buffer/1-main_dataset.xlsx\")\n",
    "md.drop(columns=md.columns[0], axis=1, inplace=True)\n",
    "\n",
    "X = md.drop(columns=\"Attrition\", axis=1)\n",
    "y = [i == \"Yes\" for i in md[\"Attrition\"]]\n",
    "\n",
    "X_train, X_test, y_train, y_test = train_test_split(X, y, test_size=.2,  random_state=0)\n"
   ]
  },
  {
   "cell_type": "code",
   "execution_count": 72,
   "metadata": {},
   "outputs": [],
   "source": [
    "from sklearn.pipeline import Pipeline\n",
    "from sklearn.preprocessing import StandardScaler, OneHotEncoder\n",
    "from sklearn.impute import SimpleImputer\n",
    "from sklearn.compose import ColumnTransformer\n",
    "\n",
    "# Get the list of columns depending on there type\n",
    "numeric_features = X.select_dtypes(include=['int64', 'float64']).columns\n",
    "categorical_features = X.select_dtypes(include=['object']).columns\n",
    "\n",
    "numeric_transformer = Pipeline(steps=[\n",
    "      ('imputer', SimpleImputer(strategy='median')),\n",
    "      ('scaler', StandardScaler())])\n",
    "\n",
    "categorical_transformer = Pipeline(steps=[\n",
    "      ('imputer', SimpleImputer(strategy='constant', fill_value='missing')),\n",
    "      ('onehot', OneHotEncoder(handle_unknown='ignore'))])\n",
    "\n",
    "preprocessor = ColumnTransformer(transformers=[\n",
    "      ('num', numeric_transformer, numeric_features),\n",
    "      ('cat', categorical_transformer, categorical_features)])\n",
    "\n",
    "full_pipeline = Pipeline(steps=[\n",
    "      ('preprocessor', preprocessor),\n",
    "      ('modelRF', RandomForestClassifier())])"
   ]
  },
  {
   "cell_type": "code",
   "execution_count": 74,
   "metadata": {},
   "outputs": [
    {
     "data": {
      "text/plain": [
       "0.9852607709750567"
      ]
     },
     "execution_count": 74,
     "metadata": {},
     "output_type": "execute_result"
    }
   ],
   "source": [
    "full_pipeline.fit(X_train, y_train)\n",
    "y_predicted = full_pipeline.predict(X_test)\n",
    "full_pipeline.score(X_test, y_test)"
   ]
  },
  {
   "cell_type": "code",
   "execution_count": 82,
   "metadata": {},
   "outputs": [],
   "source": [
    "def variation(model: Pipeline, X: pd.DataFrame, param: str, divi = 15):\n",
    "    global y_predicted\n",
    "    # Copy of the datasets for translating the values\n",
    "    X_p = X.copy()\n",
    "    X_m = X.copy()\n",
    "\n",
    "    # Finding the translation amount\n",
    "    maxi = max(X[param])\n",
    "    mini = min(X[param])\n",
    "    alpha = ( maxi - mini ) / divi\n",
    "\n",
    "    # Translating the parameter\n",
    "    X_p[param] += np.array([alpha]*len(X[param]))\n",
    "    X_m[param] -= np.array([alpha]*len(X[param]))\n",
    "    \n",
    "    # Flooring and ceilling the parametes\n",
    "    X_p[param].where(X_p[param] > maxi, maxi, inplace=True)\n",
    "    X_p[param].where(X_p[param] < mini, mini, inplace=True)\n",
    "\n",
    "    # Get the prediciton with the new model\n",
    "    y_p_predicted = model.predict(X_p)\n",
    "    y_m_predicted = model.predict(X_m)\n",
    "\n",
    "    # Get the number of peaple that attritioned\n",
    "    y_score = sum(y_predicted) * 100 / len(y_predicted)\n",
    "    y_p_score = sum(y_p_predicted) * 100 / len(y_p_predicted)\n",
    "    y_m_score = sum(y_m_predicted) * 100 / len(y_m_predicted)\n",
    "\n",
    "    return (\n",
    "        (y_score - y_p_score),\n",
    "        (y_score - y_m_score)\n",
    "    )"
   ]
  },
  {
   "cell_type": "code",
   "execution_count": 139,
   "metadata": {},
   "outputs": [],
   "source": [
    "def variation(model: Pipeline, X: pd.DataFrame, param: str, divi = 15):\n",
    "    global y_predicted\n",
    "    # Copy of the datasets for translating the values\n",
    "    X = X.copy()\n",
    "\n",
    "    # Finding the translation amount\n",
    "    maxi = max(X[param])\n",
    "    mini = min(X[param])\n",
    "    alpha = ( (maxi-mini) - (mini-maxi) ) / divi\n",
    "\n",
    "    y_score = sum(y_predicted) * 100 / len(y_predicted)\n",
    "    best_score = (y_score, 0)\n",
    "    for delta in np.arange(mini-maxi, maxi-mini, alpha):\n",
    "        # Translating the parameter\n",
    "        X[param] += np.array( [delta] * len(X[param]) )\n",
    "\n",
    "        # Flooring and ceilling the parametes\n",
    "        X[param].where(X[param] > maxi, maxi, inplace=True)\n",
    "        X[param].where(X[param] < mini, mini, inplace=True)\n",
    "\n",
    "        # Get the prediciton with the new model\n",
    "        y_local_predicted = model.predict(X)\n",
    "\n",
    "        # Get the number of peaple that attritioned\n",
    "        y_local_score = sum(y_local_predicted) * 100 / len(y_local_predicted)\n",
    "\n",
    "        if y_local_score < best_score[0]:\n",
    "            best_score = ( y_local_score, delta )\n",
    "\n",
    "    return best_score"
   ]
  },
  {
   "cell_type": "code",
   "execution_count": 140,
   "metadata": {},
   "outputs": [],
   "source": [
    "\n",
    "dict_var = {}\n",
    "for column in X_test.columns:\n",
    "    if column in numeric_features:\n",
    "        dict_var[column] = variation(full_pipeline, X_test, column)\n"
   ]
  },
  {
   "cell_type": "code",
   "execution_count": 141,
   "metadata": {},
   "outputs": [
    {
     "name": "stdout",
     "output_type": "stream",
     "text": [
      "[[13.492063492063492, 13.945578231292517, 14.965986394557824, 14.965986394557824, 14.399092970521542, 14.058956916099774, 13.718820861678005, 14.852607709750567, 14.512471655328799, 14.965986394557824, 12.811791383219955, 14.285714285714286, 13.832199546485262, 13.718820861678005, 14.739229024943311, 13.945578231292517, 14.285714285714286, 14.965986394557824, 7.142857142857143, 14.965986394557824, 14.17233560090703], [-41.0, -28.0, 0, 0, -189900.0, -9.0, -14.0, -3.0, -40.0, 0, -40.0, -15.0, -17.0, -3.0, -3.0, -3.0, -3.0, 0, -0.21013336878472233, 0, -6751.589079602407]]\n"
     ]
    },
    {
     "data": {
      "text/html": [
       "<div>\n",
       "<style scoped>\n",
       "    .dataframe tbody tr th:only-of-type {\n",
       "        vertical-align: middle;\n",
       "    }\n",
       "\n",
       "    .dataframe tbody tr th {\n",
       "        vertical-align: top;\n",
       "    }\n",
       "\n",
       "    .dataframe thead th {\n",
       "        text-align: right;\n",
       "    }\n",
       "</style>\n",
       "<table border=\"1\" class=\"dataframe\">\n",
       "  <thead>\n",
       "    <tr style=\"text-align: right;\">\n",
       "      <th></th>\n",
       "      <th>Age</th>\n",
       "      <th>DistanceFromHome</th>\n",
       "      <th>Education</th>\n",
       "      <th>JobLevel</th>\n",
       "      <th>MonthlyIncome</th>\n",
       "      <th>NumCompaniesWorked</th>\n",
       "      <th>PercentSalaryHike</th>\n",
       "      <th>StockOptionLevel</th>\n",
       "      <th>TotalWorkingYears</th>\n",
       "      <th>TrainingTimesLastYear</th>\n",
       "      <th>...</th>\n",
       "      <th>YearsSinceLastPromotion</th>\n",
       "      <th>YearsWithCurrManager</th>\n",
       "      <th>EnvironmentSatisfaction</th>\n",
       "      <th>JobSatisfaction</th>\n",
       "      <th>WorkLifeBalance</th>\n",
       "      <th>JobInvolvement</th>\n",
       "      <th>PerformanceRating</th>\n",
       "      <th>Average</th>\n",
       "      <th>nb days off</th>\n",
       "      <th>Standard deviation</th>\n",
       "    </tr>\n",
       "  </thead>\n",
       "  <tbody>\n",
       "    <tr>\n",
       "      <th>0</th>\n",
       "      <td>13.492063</td>\n",
       "      <td>13.945578</td>\n",
       "      <td>14.965986</td>\n",
       "      <td>14.965986</td>\n",
       "      <td>14.399093</td>\n",
       "      <td>14.058957</td>\n",
       "      <td>13.718821</td>\n",
       "      <td>14.852608</td>\n",
       "      <td>14.512472</td>\n",
       "      <td>14.965986</td>\n",
       "      <td>...</td>\n",
       "      <td>14.285714</td>\n",
       "      <td>13.8322</td>\n",
       "      <td>13.718821</td>\n",
       "      <td>14.739229</td>\n",
       "      <td>13.945578</td>\n",
       "      <td>14.285714</td>\n",
       "      <td>14.965986</td>\n",
       "      <td>7.142857</td>\n",
       "      <td>14.965986</td>\n",
       "      <td>14.172336</td>\n",
       "    </tr>\n",
       "    <tr>\n",
       "      <th>1</th>\n",
       "      <td>-41.000000</td>\n",
       "      <td>-28.000000</td>\n",
       "      <td>0.000000</td>\n",
       "      <td>0.000000</td>\n",
       "      <td>-189900.000000</td>\n",
       "      <td>-9.000000</td>\n",
       "      <td>-14.000000</td>\n",
       "      <td>-3.000000</td>\n",
       "      <td>-40.000000</td>\n",
       "      <td>0.000000</td>\n",
       "      <td>...</td>\n",
       "      <td>-15.000000</td>\n",
       "      <td>-17.0000</td>\n",
       "      <td>-3.000000</td>\n",
       "      <td>-3.000000</td>\n",
       "      <td>-3.000000</td>\n",
       "      <td>-3.000000</td>\n",
       "      <td>0.000000</td>\n",
       "      <td>-0.210133</td>\n",
       "      <td>0.000000</td>\n",
       "      <td>-6751.589080</td>\n",
       "    </tr>\n",
       "  </tbody>\n",
       "</table>\n",
       "<p>2 rows × 21 columns</p>\n",
       "</div>"
      ],
      "text/plain": [
       "         Age  DistanceFromHome  Education   JobLevel  MonthlyIncome  \\\n",
       "0  13.492063         13.945578  14.965986  14.965986      14.399093   \n",
       "1 -41.000000        -28.000000   0.000000   0.000000 -189900.000000   \n",
       "\n",
       "   NumCompaniesWorked  PercentSalaryHike  StockOptionLevel  TotalWorkingYears  \\\n",
       "0           14.058957          13.718821         14.852608          14.512472   \n",
       "1           -9.000000         -14.000000         -3.000000         -40.000000   \n",
       "\n",
       "   TrainingTimesLastYear  ...  YearsSinceLastPromotion  YearsWithCurrManager  \\\n",
       "0              14.965986  ...                14.285714               13.8322   \n",
       "1               0.000000  ...               -15.000000              -17.0000   \n",
       "\n",
       "   EnvironmentSatisfaction  JobSatisfaction  WorkLifeBalance  JobInvolvement  \\\n",
       "0                13.718821        14.739229        13.945578       14.285714   \n",
       "1                -3.000000        -3.000000        -3.000000       -3.000000   \n",
       "\n",
       "   PerformanceRating   Average  nb days off  Standard deviation  \n",
       "0          14.965986  7.142857    14.965986           14.172336  \n",
       "1           0.000000 -0.210133     0.000000        -6751.589080  \n",
       "\n",
       "[2 rows x 21 columns]"
      ]
     },
     "execution_count": 141,
     "metadata": {},
     "output_type": "execute_result"
    }
   ],
   "source": [
    "list_var = []\n",
    "for i in range(2):\n",
    "    list_var.append([j[i] for j in dict_var.values()])\n",
    "print(list_var)\n",
    "pd.DataFrame(columns=dict_var.keys(), data=list_var)"
   ]
  },
  {
   "cell_type": "code",
   "execution_count": 99,
   "metadata": {},
   "outputs": [
    {
     "ename": "TypeError",
     "evalue": "object of type 'AxesSubplot' has no len()",
     "output_type": "error",
     "traceback": [
      "\u001b[0;31m---------------------------------------------------------------------------\u001b[0m",
      "\u001b[0;31mTypeError\u001b[0m                                 Traceback (most recent call last)",
      "\u001b[1;32m/home/mathieu/Documents/ProjetIA/5-Pipeline finale.ipynb Cell 7'\u001b[0m in \u001b[0;36m<cell line: 8>\u001b[0;34m()\u001b[0m\n\u001b[1;32m      <a href='vscode-notebook-cell:/home/mathieu/Documents/ProjetIA/5-Pipeline%20finale.ipynb#ch0000005?line=3'>4</a>\u001b[0m y_pos \u001b[39m=\u001b[39m np\u001b[39m.\u001b[39marange(\u001b[39mlen\u001b[39m(graph_l))\n\u001b[1;32m      <a href='vscode-notebook-cell:/home/mathieu/Documents/ProjetIA/5-Pipeline%20finale.ipynb#ch0000005?line=5'>6</a>\u001b[0m fig, axs \u001b[39m=\u001b[39m plt\u001b[39m.\u001b[39msubplots(\u001b[39m1\u001b[39m, \u001b[39m1\u001b[39m, figsize\u001b[39m=\u001b[39m(\u001b[39m20\u001b[39m, \u001b[39m7\u001b[39m))\n\u001b[0;32m----> <a href='vscode-notebook-cell:/home/mathieu/Documents/ProjetIA/5-Pipeline%20finale.ipynb#ch0000005?line=7'>8</a>\u001b[0m \u001b[39mfor\u001b[39;00m i \u001b[39min\u001b[39;00m \u001b[39mrange\u001b[39m(\u001b[39mlen\u001b[39;49m(axs)):\n\u001b[1;32m      <a href='vscode-notebook-cell:/home/mathieu/Documents/ProjetIA/5-Pipeline%20finale.ipynb#ch0000005?line=8'>9</a>\u001b[0m     graph_x \u001b[39m=\u001b[39m [j[i] \u001b[39mfor\u001b[39;00m j \u001b[39min\u001b[39;00m dict_var\u001b[39m.\u001b[39mvalues()]\n\u001b[1;32m     <a href='vscode-notebook-cell:/home/mathieu/Documents/ProjetIA/5-Pipeline%20finale.ipynb#ch0000005?line=9'>10</a>\u001b[0m     axs[i]\u001b[39m.\u001b[39mbarh(y_pos, graph_x)\n",
      "\u001b[0;31mTypeError\u001b[0m: object of type 'AxesSubplot' has no len()"
     ]
    },
    {
     "data": {
      "image/png": "[encoded data removed]",
      "text/plain": [
       "<Figure size 1440x504 with 1 Axes>"
      ]
     },
     "metadata": {
      "needs_background": "light"
     },
     "output_type": "display_data"
    }
   ],
   "source": [
    "dict_var = {k: v for k, v in dict_var.items() if v[0] != 0 and v[1] != 0}\n",
    "\n",
    "graph_l = dict_var.keys()\n",
    "y_pos = np.arange(len(graph_l))\n",
    "\n",
    "fig, axs = plt.subplots(1, 2, figsize=(20, 7))\n",
    "\n",
    "for i in range(len(axs)):\n",
    "    graph_x = [j[i] for j in dict_var.values()]\n",
    "    axs[i].barh(y_pos, graph_x)\n",
    "    axs[i].set_yticks(y_pos, labels=graph_l)\n",
    "    axs[i].invert_yaxis()\n",
    "    axs[i].set_xlabel('Attrition gap with control prediction')\n",
    "    axs[i].set_title('Negative direction' if i == 0 else 'Positive direction')\n",
    "\n",
    "fig.tight_layout()\n",
    "plt.show()"
   ]
  }
 ],
 "metadata": {
  "interpreter": {
   "hash": "9ee1ad32b56d89343f866cbb24efe029c7376ac3acaed8ce40e8302e13a6cb77"
  },
  "kernelspec": {
   "display_name": "Python 3.8.10 ('venv': venv)",
   "language": "python",
   "name": "python3"
  },
  "language_info": {
   "codemirror_mode": {
    "name": "ipython",
    "version": 3
   },
   "file_extension": ".py",
   "mimetype": "text/x-python",
   "name": "python",
   "nbconvert_exporter": "python",
   "pygments_lexer": "ipython3",
   "version": "3.8.10"
  },
  "orig_nbformat": 4
 },
 "nbformat": 4,
 "nbformat_minor": 2
}
