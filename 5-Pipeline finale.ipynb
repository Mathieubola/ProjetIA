{
 "cells": [
  {
   "cell_type": "code",
   "execution_count": 1,
   "metadata": {},
   "outputs": [],
   "source": [
    "import pandas as pd\n",
    "import numpy as np\n",
    "import matplotlib.pyplot as plt\n",
    "\n",
    "from sklearn.neural_network import MLPClassifier\n",
    "from sklearn.model_selection import train_test_split\n",
    "\n",
    "import warnings\n",
    "warnings.filterwarnings(action='ignore')\n",
    "\n",
    "md = pd.read_excel(\"./buffer/1-main_dataset.xlsx\")\n",
    "md.drop(columns=md.columns[0], axis=1, inplace=True)\n",
    "\n",
    "X = md.drop(columns=\"Attrition\", axis=1)\n",
    "y = [i == \"Yes\" for i in md[\"Attrition\"]]\n",
    "\n",
    "X_train, X_test, y_train, y_test = train_test_split(X, y, test_size=.2,  random_state=0)\n"
   ]
  },
  {
   "cell_type": "code",
   "execution_count": 2,
   "metadata": {},
   "outputs": [],
   "source": [
    "from sklearn.pipeline import Pipeline\n",
    "from sklearn.preprocessing import StandardScaler, OneHotEncoder\n",
    "from sklearn.impute import SimpleImputer\n",
    "from sklearn.compose import ColumnTransformer\n",
    "\n",
    "# Get the list of columns depending on there type\n",
    "numeric_features = X.select_dtypes(include=['int64', 'float64']).columns\n",
    "categorical_features = X.select_dtypes(include=['object']).columns\n",
    "\n",
    "numeric_transformer = Pipeline(steps=[\n",
    "      ('imputer', SimpleImputer(strategy='median')),\n",
    "      ('scaler', StandardScaler())])\n",
    "\n",
    "categorical_transformer = Pipeline(steps=[\n",
    "      ('imputer', SimpleImputer(strategy='constant', fill_value='missing')),\n",
    "      ('onehot', OneHotEncoder(handle_unknown='ignore'))])\n",
    "\n",
    "preprocessor = ColumnTransformer(transformers=[\n",
    "      ('num', numeric_transformer, numeric_features),\n",
    "      ('cat', categorical_transformer, categorical_features)])\n",
    "\n",
    "full_pipeline = Pipeline(steps=[\n",
    "      ('preprocessor', preprocessor),\n",
    "      ('modelRF', MLPClassifier())])"
   ]
  },
  {
   "cell_type": "code",
   "execution_count": 3,
   "metadata": {},
   "outputs": [
    {
     "data": {
      "text/plain": [
       "0.9863945578231292"
      ]
     },
     "execution_count": 3,
     "metadata": {},
     "output_type": "execute_result"
    }
   ],
   "source": [
    "\n",
    "full_pipeline.fit(X_train, y_train)\n",
    "y_predicted = full_pipeline.predict(X_test)\n",
    "full_pipeline.score(X_test, y_test)"
   ]
  },
  {
   "cell_type": "code",
   "execution_count": 6,
   "metadata": {},
   "outputs": [
    {
     "name": "stdout",
     "output_type": "stream",
     "text": [
      "Real Attrition: 145, Predicted Attrition: 139\n"
     ]
    }
   ],
   "source": [
    "print(f\"Real Attrition: {sum(y_test)}, Predicted Attrition: {sum(y_predicted)}\")"
   ]
  },
  {
   "cell_type": "code",
   "execution_count": 14,
   "metadata": {},
   "outputs": [
    {
     "data": {
      "text/plain": [
       "True"
      ]
     },
     "execution_count": 14,
     "metadata": {},
     "output_type": "execute_result"
    }
   ],
   "source": [
    "modifiable_columns = ['Average', 'TrainingTimesLastYear', 'YearsWithCurrManager', 'JobSatisfaction', 'Standard deviation', 'EnvironmentSatisfaction']\n",
    "\n",
    "dividor = 15\n",
    "modifiable_dict = {}\n",
    "\n",
    "for i in modifiable_columns:\n",
    "    if type(X_test[i].values[0]) != str:\n",
    "        mini = min(X_test[i].values)\n",
    "        maxi = max(X_test[i].values)\n",
    "\n",
    "        modifiable_dict[i] = np.arange(mini, maxi, (maxi-mini)/dividor)\n",
    "    else:\n",
    "        modifiable_dict[i] = np.unique(X_test[i].values)"
   ]
  },
  {
   "cell_type": "code",
   "execution_count": 24,
   "metadata": {},
   "outputs": [],
   "source": [
    "X_test_mod = X_test.copy()\n",
    "X_test_mod['Average'] -= np.array( [0.2] * len(X_test_mod['Average']))\n",
    "X_test_mod['TrainingTimesLastYear'] += np.array( [2] * len(X_test_mod['TrainingTimesLastYear']))"
   ]
  },
  {
   "cell_type": "code",
   "execution_count": 25,
   "metadata": {},
   "outputs": [
    {
     "name": "stdout",
     "output_type": "stream",
     "text": [
      "Real Attrition: 145, Predicted Attrition: 139, Improved Attrition: 3\n"
     ]
    }
   ],
   "source": [
    "y_predicted_mod = full_pipeline.predict(X_test_mod)\n",
    "\n",
    "print(f\"Real Attrition: {sum(y_test)}, Predicted Attrition: {sum(y_predicted)}, Improved Attrition: {sum(y_predicted_mod)}\")"
   ]
  }
 ],
 "metadata": {
  "interpreter": {
   "hash": "9ee1ad32b56d89343f866cbb24efe029c7376ac3acaed8ce40e8302e13a6cb77"
  },
  "kernelspec": {
   "display_name": "Python 3.8.10 ('venv': venv)",
   "language": "python",
   "name": "python3"
  },
  "language_info": {
   "codemirror_mode": {
    "name": "ipython",
    "version": 3
   },
   "file_extension": ".py",
   "mimetype": "text/x-python",
   "name": "python",
   "nbconvert_exporter": "python",
   "pygments_lexer": "ipython3",
   "version": "3.8.10"
  },
  "orig_nbformat": 4
 },
 "nbformat": 4,
 "nbformat_minor": 2
}
