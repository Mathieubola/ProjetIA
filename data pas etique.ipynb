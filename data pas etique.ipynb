{
 "cells": [
  {
   "cell_type": "markdown",
   "metadata": {},
   "source": [
    "# Notebook projet ia"
   ]
  },
  {
   "cell_type": "code",
   "execution_count": 17,
   "metadata": {},
   "outputs": [],
   "source": [
    "import pandas as pd\n",
    "import numpy as np\n",
    "\n",
    "pd.set_option('display.max_columns', None)  # or 1000\n",
    "pd.set_option('display.max_rows', None)  # or 1000\n",
    "pd.set_option('display.max_colwidth', -1)  # or 199\n",
    "\n",
    "gd = pd.read_csv(\"./data/general_data.csv\")\n",
    "esd = pd.read_csv(\"./data/employee_survey_data.csv\")\n",
    "in_time = pd.read_csv(\"./data/in_time.csv\")\n",
    "out_time = pd.read_csv(\"./data/out_time.csv\")"
   ]
  },
  {
   "cell_type": "markdown",
   "metadata": {},
   "source": [
    "# Nétoyage des données non ethique"
   ]
  },
  {
   "cell_type": "code",
   "execution_count": 18,
   "metadata": {},
   "outputs": [],
   "source": [
    "data = gd.copy()\n",
    "data.join(esd, rsuffix=\"_esd\")\n",
    "data.drop(columns=[\"EmployeeCount\", \"EmployeeID\", \"Gender\", \"MaritalStatus\", \"Over18\", \"StandardHours\"], axis=1, inplace=True)"
   ]
  },
  {
   "cell_type": "code",
   "execution_count": 38,
   "metadata": {},
   "outputs": [],
   "source": [
    "from sklearn.pipeline import Pipeline\n",
    "from sklearn.preprocessing import StandardScaler, OneHotEncoder\n",
    "from sklearn.impute import SimpleImputer\n",
    "from sklearn.compose import ColumnTransformer\n",
    "\n",
    "numeric_features = data.select_dtypes(include=['int64', 'float64']).columns\n",
    "categorical_features = data.select_dtypes(include=['object']).columns\n",
    "\n",
    "numeric_transformer = Pipeline(steps=[\n",
    "      ('imputer', SimpleImputer(strategy='median')),\n",
    "      ('scaler', StandardScaler())])\n",
    "\n",
    "ohe = OneHotEncoder(handle_unknown='ignore')\n",
    "\n",
    "categorical_transformer = Pipeline(steps=[\n",
    "      ('imputer', SimpleImputer(strategy='constant', fill_value='missing')),\n",
    "      ('onehot', ohe)])\n",
    "\n",
    "preprocessor = ColumnTransformer(\n",
    "      transformers=[\n",
    "            ('num', numeric_transformer, numeric_features),\n",
    "            ('cat', categorical_transformer, categorical_features)\n",
    "        ]\n",
    ")\n",
    "\n",
    "# Create the pipeline for preprossessing and classifying\n",
    "data_prepared = preprocessor.fit_transform(data)\n"
   ]
  },
  {
   "cell_type": "code",
   "execution_count": 81,
   "metadata": {},
   "outputs": [
    {
     "data": {
      "text/html": [
       "<div>\n",
       "<style scoped>\n",
       "    .dataframe tbody tr th:only-of-type {\n",
       "        vertical-align: middle;\n",
       "    }\n",
       "\n",
       "    .dataframe tbody tr th {\n",
       "        vertical-align: top;\n",
       "    }\n",
       "\n",
       "    .dataframe thead th {\n",
       "        text-align: right;\n",
       "    }\n",
       "</style>\n",
       "<table border=\"1\" class=\"dataframe\">\n",
       "  <thead>\n",
       "    <tr style=\"text-align: right;\">\n",
       "      <th></th>\n",
       "      <th>Attrition_No</th>\n",
       "      <th>Attrition_Yes</th>\n",
       "      <th>BusinessTravel_Non-Travel</th>\n",
       "      <th>BusinessTravel_Travel_Frequently</th>\n",
       "      <th>Department_Human Resources</th>\n",
       "      <th>EducationField_Human Resources</th>\n",
       "      <th>Age</th>\n",
       "      <th>TotalWorkingYears</th>\n",
       "      <th>YearsAtCompany</th>\n",
       "      <th>YearsWithCurrManager</th>\n",
       "    </tr>\n",
       "  </thead>\n",
       "  <tbody>\n",
       "    <tr>\n",
       "      <th>Attrition_No</th>\n",
       "      <td>1.0</td>\n",
       "      <td>-1.0</td>\n",
       "      <td>0.074457</td>\n",
       "      <td>-0.115143</td>\n",
       "      <td>-0.080768</td>\n",
       "      <td>-0.091573</td>\n",
       "      <td>0.159205</td>\n",
       "      <td>0.170338</td>\n",
       "      <td>0.134392</td>\n",
       "      <td>0.156199</td>\n",
       "    </tr>\n",
       "  </tbody>\n",
       "</table>\n",
       "</div>"
      ],
      "text/plain": [
       "              Attrition_No  Attrition_Yes  BusinessTravel_Non-Travel  \\\n",
       "Attrition_No  1.0          -1.0            0.074457                    \n",
       "\n",
       "              BusinessTravel_Travel_Frequently  Department_Human Resources  \\\n",
       "Attrition_No -0.115143                         -0.080768                     \n",
       "\n",
       "              EducationField_Human Resources       Age  TotalWorkingYears  \\\n",
       "Attrition_No -0.091573                        0.159205  0.170338            \n",
       "\n",
       "              YearsAtCompany  YearsWithCurrManager  \n",
       "Attrition_No  0.134392        0.156199              "
      ]
     },
     "execution_count": 81,
     "metadata": {},
     "output_type": "execute_result"
    }
   ],
   "source": [
    "data2 = data.loc[:, categorical_features]\n",
    "data3 = data.loc[:, numeric_features]\n",
    "data2_prepared = pd.get_dummies(data2)\n",
    "\n",
    "data4 = data2_prepared.join(data3)\n",
    "cor_att = data4.corr()[:1]\n",
    "\n",
    "cor_att.where(abs(cor_att) > 0.05, inplace=True)\n",
    "cor_att.dropna(inplace=True, axis=1)\n",
    "cor_att.head()\n"
   ]
  }
 ],
 "metadata": {
  "interpreter": {
   "hash": "4722112977c454b1633ca0e02448bd777955e094ad958f261aa9f638b0debe4e"
  },
  "kernelspec": {
   "display_name": "Python 3.8.10 ('venv': venv)",
   "language": "python",
   "name": "python3"
  },
  "language_info": {
   "codemirror_mode": {
    "name": "ipython",
    "version": 3
   },
   "file_extension": ".py",
   "mimetype": "text/x-python",
   "name": "python",
   "nbconvert_exporter": "python",
   "pygments_lexer": "ipython3",
   "version": "3.8.10"
  },
  "orig_nbformat": 4
 },
 "nbformat": 4,
 "nbformat_minor": 2
}
