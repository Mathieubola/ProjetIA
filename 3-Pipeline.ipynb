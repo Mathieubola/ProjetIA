{
 "cells": [
  {
   "cell_type": "code",
   "execution_count": 33,
   "metadata": {},
   "outputs": [],
   "source": [
    "from sklearn.pipeline import Pipeline\n",
    "from sklearn.preprocessing import StandardScaler, OneHotEncoder\n",
    "from sklearn.impute import SimpleImputer\n",
    "from sklearn.compose import ColumnTransformer\n",
    "\n",
    "numeric_features = data.select_dtypes(include=['int64', 'float64']).columns\n",
    "categorical_features = data.select_dtypes(include=['object']).columns\n",
    "\n",
    "numeric_transformer = Pipeline(steps=[\n",
    "      ('imputer', SimpleImputer(strategy='median')),\n",
    "      ('scaler', StandardScaler())])\n",
    "\n",
    "ohe = OneHotEncoder(handle_unknown='ignore')\n",
    "\n",
    "categorical_transformer = Pipeline(steps=[\n",
    "      ('imputer', SimpleImputer(strategy='constant', fill_value='missing')),\n",
    "      ('onehot', ohe)])\n",
    "\n",
    "preprocessor = ColumnTransformer(\n",
    "      transformers=[\n",
    "            ('num', numeric_transformer, numeric_features),\n",
    "            ('cat', categorical_transformer, categorical_features)\n",
    "        ]\n",
    ")\n",
    "\n",
    "# Create the pipeline for preprossessing and classifying\n",
    "data_prepared = preprocessor.fit_transform(data)"
   ]
  },
  {
   "cell_type": "code",
   "execution_count": 34,
   "metadata": {},
   "outputs": [
    {
     "data": {
      "text/html": [
       "<div>\n",
       "<style scoped>\n",
       "    .dataframe tbody tr th:only-of-type {\n",
       "        vertical-align: middle;\n",
       "    }\n",
       "\n",
       "    .dataframe tbody tr th {\n",
       "        vertical-align: top;\n",
       "    }\n",
       "\n",
       "    .dataframe thead th {\n",
       "        text-align: right;\n",
       "    }\n",
       "</style>\n",
       "<table border=\"1\" class=\"dataframe\">\n",
       "  <thead>\n",
       "    <tr style=\"text-align: right;\">\n",
       "      <th></th>\n",
       "      <th>Attrition_No</th>\n",
       "      <th>Attrition_Yes</th>\n",
       "      <th>BusinessTravel_Non-Travel</th>\n",
       "      <th>BusinessTravel_Travel_Frequently</th>\n",
       "      <th>Department_Human Resources</th>\n",
       "      <th>EducationField_Human Resources</th>\n",
       "      <th>MaritalStatus_Divorced</th>\n",
       "      <th>MaritalStatus_Married</th>\n",
       "      <th>MaritalStatus_Single</th>\n",
       "      <th>Age</th>\n",
       "      <th>TotalWorkingYears</th>\n",
       "      <th>YearsAtCompany</th>\n",
       "      <th>YearsWithCurrManager</th>\n",
       "    </tr>\n",
       "  </thead>\n",
       "  <tbody>\n",
       "    <tr>\n",
       "      <th>Attrition_No</th>\n",
       "      <td>1.0</td>\n",
       "      <td>-1.0</td>\n",
       "      <td>0.074457</td>\n",
       "      <td>-0.115143</td>\n",
       "      <td>-0.080768</td>\n",
       "      <td>-0.091573</td>\n",
       "      <td>0.087716</td>\n",
       "      <td>0.090984</td>\n",
       "      <td>-0.175419</td>\n",
       "      <td>0.159205</td>\n",
       "      <td>0.170338</td>\n",
       "      <td>0.134392</td>\n",
       "      <td>0.156199</td>\n",
       "    </tr>\n",
       "  </tbody>\n",
       "</table>\n",
       "</div>"
      ],
      "text/plain": [
       "              Attrition_No  Attrition_Yes  BusinessTravel_Non-Travel  \\\n",
       "Attrition_No           1.0           -1.0                   0.074457   \n",
       "\n",
       "              BusinessTravel_Travel_Frequently  Department_Human Resources  \\\n",
       "Attrition_No                         -0.115143                   -0.080768   \n",
       "\n",
       "              EducationField_Human Resources  MaritalStatus_Divorced  \\\n",
       "Attrition_No                       -0.091573                0.087716   \n",
       "\n",
       "              MaritalStatus_Married  MaritalStatus_Single       Age  \\\n",
       "Attrition_No               0.090984             -0.175419  0.159205   \n",
       "\n",
       "              TotalWorkingYears  YearsAtCompany  YearsWithCurrManager  \n",
       "Attrition_No           0.170338        0.134392              0.156199  "
      ]
     },
     "execution_count": 34,
     "metadata": {},
     "output_type": "execute_result"
    }
   ],
   "source": [
    "data2 = data.loc[:, categorical_features]\n",
    "data3 = data.loc[:, numeric_features]\n",
    "data2_prepared = pd.get_dummies(data2)\n",
    "\n",
    "data4 = data2_prepared.join(data3)\n",
    "cor_att = data4.corr()[:1]\n",
    "\n",
    "cor_att.where(abs(cor_att) > 0.05, inplace=True)\n",
    "cor_att.dropna(inplace=True, axis=1)\n",
    "cor_att.head()"
   ]
  }
 ],
 "metadata": {
  "interpreter": {
   "hash": "9ee1ad32b56d89343f866cbb24efe029c7376ac3acaed8ce40e8302e13a6cb77"
  },
  "kernelspec": {
   "display_name": "Python 3.8.10 ('venv': venv)",
   "language": "python",
   "name": "python3"
  },
  "language_info": {
   "codemirror_mode": {
    "name": "ipython",
    "version": 3
   },
   "file_extension": ".py",
   "mimetype": "text/x-python",
   "name": "python",
   "nbconvert_exporter": "python",
   "pygments_lexer": "ipython3",
   "version": "3.8.10"
  },
  "orig_nbformat": 4
 },
 "nbformat": 4,
 "nbformat_minor": 2
}
