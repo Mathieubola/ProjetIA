{
 "cells": [
  {
   "cell_type": "code",
   "execution_count": 176,
   "metadata": {},
   "outputs": [],
   "source": [
    "import pandas as pd\n",
    "import numpy as np\n",
    "import matplotlib.pyplot as plt\n",
    "\n",
    "import warnings\n",
    "warnings.filterwarnings(action='ignore')\n",
    "\n",
    "main_dataset = pd.read_excel(\"./buffer/1-main_dataset.xlsx\")\n",
    "main_dataset.drop(columns=main_dataset.columns[0], axis=1, inplace=True)\n",
    "\n",
    "main_dataset_prepared = pd.read_excel(\"./buffer/2-main_dataset_prepared.xlsx\")\n",
    "main_dataset_prepared.drop(columns=main_dataset_prepared.columns[0], axis=1, inplace=True)"
   ]
  },
  {
   "cell_type": "code",
   "execution_count": 177,
   "metadata": {},
   "outputs": [],
   "source": [
    "X = main_dataset_prepared.drop(columns=[\"Attrition_No\", \"Attrition_Yes\"], axis=1)\n",
    "y = main_dataset_prepared[\"Attrition_Yes\"]"
   ]
  },
  {
   "cell_type": "code",
   "execution_count": 178,
   "metadata": {},
   "outputs": [],
   "source": [
    "from sklearn.model_selection import train_test_split\n",
    "X_train, X_test, y_train, y_test = train_test_split(X, y, test_size=.2,  random_state=0)"
   ]
  },
  {
   "cell_type": "code",
   "execution_count": 180,
   "metadata": {},
   "outputs": [
    {
     "name": "stdout",
     "output_type": "stream",
     "text": [
      "0.9863945578231292\n",
      "0.9875283446712018\n",
      "0.8696145124716553\n"
     ]
    }
   ],
   "source": [
    "from sklearn.neural_network import MLPClassifier\n",
    "from sklearn.ensemble import RandomForestClassifier\n",
    "from sklearn.neighbors import KNeighborsClassifier\n",
    "\n",
    "modelMLP = MLPClassifier(random_state=0, hidden_layer_sizes=(200, 100))\n",
    "modelRF = RandomForestClassifier(random_state=0)\n",
    "modelKNN = KNeighborsClassifier()\n",
    "\n",
    "modelMLP.fit(X_train, y_train)\n",
    "scoreMLP = modelMLP.score(X_test, y_test)\n",
    "print(scoreMLP)\n",
    "\n",
    "modelRF.fit(X_train, y_train)\n",
    "scoreRF = modelRF.score(X_test, y_test)\n",
    "print(scoreRF)\n",
    "\n",
    "modelKNN.fit(X_train, y_train)\n",
    "scoreKNN = modelKNN.score(X_test, y_test)\n",
    "print(scoreKNN)"
   ]
  },
  {
   "cell_type": "code",
   "execution_count": 181,
   "metadata": {},
   "outputs": [],
   "source": [
    "from sklearn.metrics import precision_score, recall_score, average_precision_score, f1_score, fbeta_score, confusion_matrix\n",
    "\n",
    "\n",
    "# Musire de la perforamnce d'un model\n",
    "def affichage_perforamnce(model, X_test, y_test):\n",
    "    y_pred = model.predict(X_test)\n",
    "    print(pd.DataFrame(confusion_matrix(y_test, y_pred), columns=['predicted_No', 'predicted_Yes'], index=['actual_No', 'actual_Yes']))\n",
    "    print()\n",
    "    print('Classifier Score :', model.score(X_test, y_test))\n",
    "    print('Precision Score :', precision_score(y_test, y_pred))\n",
    "    print('Recall Score : ', recall_score(y_test, y_pred))\n",
    "    print('Average Precision Score : ', average_precision_score(y_test, y_pred))\n",
    "    print('F1 Score : ', f1_score(y_test, y_pred))\n",
    "    print('F Beta Score : ', fbeta_score(y_test, y_pred, beta= 0.5))"
   ]
  },
  {
   "cell_type": "code",
   "execution_count": 182,
   "metadata": {},
   "outputs": [
    {
     "name": "stdout",
     "output_type": "stream",
     "text": [
      "            predicted_No  predicted_Yes\n",
      "actual_No            735              2\n",
      "actual_Yes            10            135\n",
      "\n",
      "Classifier Score : 0.9863945578231292\n",
      "Precision Score : 0.9854014598540146\n",
      "Recall Score :  0.9310344827586207\n",
      "Average Precision Score :  0.9287806069654978\n",
      "F1 Score :  0.9574468085106382\n",
      "F Beta Score :  0.9740259740259742\n",
      "\n",
      "            predicted_No  predicted_Yes\n",
      "actual_No            737              0\n",
      "actual_Yes            11            134\n",
      "\n",
      "Classifier Score : 0.9875283446712018\n",
      "Precision Score : 1.0\n",
      "Recall Score :  0.9241379310344827\n",
      "Average Precision Score :  0.936609586363281\n",
      "F1 Score :  0.9605734767025089\n",
      "F Beta Score :  0.9838472834067546\n"
     ]
    }
   ],
   "source": [
    "affichage_perforamnce(modelMLP, X_test, y_test)\n",
    "print()\n",
    "affichage_perforamnce(modelRF, X_test, y_test)"
   ]
  },
  {
   "cell_type": "code",
   "execution_count": 190,
   "metadata": {},
   "outputs": [
    {
     "data": {
      "text/plain": [
       "{'nb days off': 0.02341334198333703,\n",
       " 'YearsWithCurrManager': 0.035595420514944937,\n",
       " 'YearsSinceLastPromotion': 0.02874886972178781,\n",
       " 'YearsAtCompany': 0.049111256337325056,\n",
       " 'WorkLifeBalance': 0.025597580761174864,\n",
       " 'TrainingTimesLastYear': 0.026262222728161283,\n",
       " 'TotalWorkingYears': 0.0699788105480566,\n",
       " 'StockOptionLevel': 0.019436795655546988,\n",
       " 'Standard deviation': 0.05276929140145076,\n",
       " 'PerformanceRating': 0.0072540343644665025,\n",
       " 'PercentSalaryHike': 0.0371004779186887,\n",
       " 'NumCompaniesWorked': 0.03571744266301252,\n",
       " 'MonthlyIncome': 0.062282082992328805,\n",
       " 'MaritalStatus_Single': 0.024191654514377103,\n",
       " 'MaritalStatus_Married': 0.010396723241901861,\n",
       " 'MaritalStatus_Divorced': 0.009250459936054325,\n",
       " 'JobSatisfaction': 0.030202605154744773,\n",
       " 'JobRole_Sales Representative': 0.005747093510322556,\n",
       " 'JobRole_Sales Executive': 0.0096555351525858,\n",
       " 'JobRole_Research Scientist': 0.007409219458373572,\n",
       " 'JobRole_Research Director': 0.006863908693457732,\n",
       " 'JobRole_Manufacturing Director': 0.005393348605932224,\n",
       " 'JobRole_Manager': 0.004123573973327909,\n",
       " 'JobRole_Laboratory Technician': 0.0071950473189550225,\n",
       " 'JobRole_Human Resources': 0.0038906947817151445,\n",
       " 'JobRole_Healthcare Representative': 0.004168358341205499,\n",
       " 'JobLevel': 0.019742173823475713,\n",
       " 'JobInvolvement': 0.021184260945036514,\n",
       " 'Gender_Male': 0.009535488818564941,\n",
       " 'Gender_Female': 0.00920215169697454,\n",
       " 'EnvironmentSatisfaction': 0.030465439707776838,\n",
       " 'EducationField_Technical Degree': 0.0038010215003012964,\n",
       " 'EducationField_Other': 0.003812182272390441,\n",
       " 'EducationField_Medical': 0.007816557418405427,\n",
       " 'EducationField_Marketing': 0.005302109374813302,\n",
       " 'EducationField_Life Sciences': 0.009704202841823963,\n",
       " 'EducationField_Human Resources': 0.004765859780473408,\n",
       " 'Education': 0.021712908803119397,\n",
       " 'DistanceFromHome': 0.040091981991544526,\n",
       " 'Department_Sales': 0.007527758394744534,\n",
       " 'Department_Research & Development': 0.008207092818807394,\n",
       " 'Department_Human Resources': 0.006679059418799673,\n",
       " 'BusinessTravel_Travel_Rarely': 0.008174757441563854,\n",
       " 'BusinessTravel_Travel_Frequently': 0.014247897458452612,\n",
       " 'BusinessTravel_Non-Travel': 0.004378921169557068,\n",
       " 'Average': 0.09173277037594843,\n",
       " 'Age': 0.07015955367419076}"
      ]
     },
     "execution_count": 190,
     "metadata": {},
     "output_type": "execute_result"
    }
   ],
   "source": [
    "dict(sorted({X_train.columns[i]: modelRF.feature_importances_[i] for i in range(len(X_train.columns))}.items(), reverse=True))"
   ]
  },
  {
   "cell_type": "markdown",
   "metadata": {},
   "source": [
    "# Calule des variations"
   ]
  },
  {
   "cell_type": "code",
   "execution_count": 165,
   "metadata": {},
   "outputs": [],
   "source": [
    "from sklearn.metrics import f1_score\n",
    "\n",
    "def variation(model: RandomForestClassifier, X: pd.DataFrame, y, param: str):\n",
    "    if param not in X.columns:\n",
    "        return\n",
    "    \n",
    "    # Copy of the datasets for translating the values\n",
    "    X_p = X.copy()\n",
    "    X_m = X.copy()\n",
    "\n",
    "    # Finding the translation amount\n",
    "    maxi = max(X[param])\n",
    "    mini = min(X[param])\n",
    "    alpha = ( maxi - mini ) / 5\n",
    "\n",
    "    # Translating the parameter\n",
    "    X_p[param] += np.array([alpha]*len(X[param]))\n",
    "    X_m[param] -= np.array([alpha]*len(X[param]))\n",
    "\n",
    "    # Get the prediciton with the new model\n",
    "    y_p_predicted = model.predict(X_p)\n",
    "    y_m_predicted = model.predict(X_m)\n",
    "    y_predicted = model.predict(X)\n",
    "\n",
    "    # Get the scores\n",
    "    y_score = sum(y_predicted)\n",
    "    y_p_score = sum(y_p_predicted)\n",
    "    y_m_score = sum(y_m_predicted)\n",
    "\n",
    "    return (\n",
    "        y_score - y_p_score,\n",
    "        y_score - y_m_score\n",
    "    )"
   ]
  },
  {
   "cell_type": "code",
   "execution_count": 45,
   "metadata": {},
   "outputs": [],
   "source": [
    "from sklearn.pipeline import Pipeline\n",
    "from sklearn.preprocessing import StandardScaler, OneHotEncoder\n",
    "from sklearn.impute import SimpleImputer\n",
    "from sklearn.compose import ColumnTransformer\n",
    "\n",
    "numeric_features = md.select_dtypes(include=['int64', 'float64']).columns\n",
    "categorical_features = md.select_dtypes(include=['object']).columns\n",
    "\n",
    "numeric_transformer = Pipeline(steps=[\n",
    "      ('imputer', SimpleImputer(strategy='median')),\n",
    "      ('scaler', StandardScaler())])\n",
    "\n",
    "categorical_transformer = Pipeline(steps=[\n",
    "      ('imputer', SimpleImputer(strategy='constant', fill_value='missing')),\n",
    "      ('onehot', OneHotEncoder(handle_unknown='ignore'))])\n",
    "\n",
    "preprocessor = ColumnTransformer(\n",
    "      transformers=[\n",
    "            ('num', numeric_transformer, numeric_features),\n",
    "            ('cat', categorical_transformer, categorical_features)])\n",
    "\n",
    "full_pipeline = Pipeline(steps=[\n",
    "      ('preprocessor', preprocessor),\n",
    "      ('modelRF', RandomForestClassifier())\n",
    "])"
   ]
  },
  {
   "cell_type": "code",
   "execution_count": 166,
   "metadata": {},
   "outputs": [],
   "source": [
    "dict_var = {}\n",
    "for column in X_test.columns:\n",
    "    if column in numeric_features:\n",
    "        dict_var[column] = variation(modelRF, X_test, y_test, column)"
   ]
  },
  {
   "cell_type": "code",
   "execution_count": 167,
   "metadata": {},
   "outputs": [
    {
     "data": {
      "image/png": "[encoded data removed]",
      "text/plain": [
       "<Figure size 1440x504 with 2 Axes>"
      ]
     },
     "metadata": {
      "needs_background": "light"
     },
     "output_type": "display_data"
    }
   ],
   "source": [
    "dict_var = {k: v for k, v in dict_var.items() if v[0] != 0 and v[1] != 0}\n",
    "graph_l = dict_var.keys()\n",
    "y_pos = np.arange(len(graph_l))\n",
    "\n",
    "fig, axs = plt.subplots(1, 2, figsize=(20, 7))\n",
    "\n",
    "for i in range(len(axs)):\n",
    "    graph_x = [j[i] for j in dict_var.values()]\n",
    "    #ax = axs[i].add_axes([0,0,1,1])\n",
    "    axs[i].barh(y_pos, graph_x)\n",
    "    axs[i].set_yticks(y_pos, labels=graph_l)\n",
    "    axs[i].invert_yaxis()\n",
    "    axs[i].set_xlabel('gap with control score')\n",
    "    axs[i].set_title('Negative direction' if i == 0 else 'Positive direction')\n",
    "\n",
    "fig.tight_layout()\n",
    "plt.show()"
   ]
  },
  {
   "cell_type": "code",
   "execution_count": 155,
   "metadata": {},
   "outputs": [
    {
     "data": {
      "text/plain": [
       "{'Age': (11, 4),\n",
       " 'DistanceFromHome': (6, 5),\n",
       " 'MonthlyIncome': (10, 3),\n",
       " 'NumCompaniesWorked': (2, 8),\n",
       " 'PercentSalaryHike': (1, 6),\n",
       " 'TotalWorkingYears': (11, 4),\n",
       " 'YearsAtCompany': (18, 10),\n",
       " 'YearsSinceLastPromotion': (3, 3),\n",
       " 'YearsWithCurrManager': (7, 2),\n",
       " 'Average': (6, 12),\n",
       " 'nb days off': (1, -2),\n",
       " 'Standard deviation': (12, 20)}"
      ]
     },
     "execution_count": 155,
     "metadata": {},
     "output_type": "execute_result"
    }
   ],
   "source": [
    "{k: v for k, v in dict_var.items() if v[0] != 0 and v[1] != 0 }"
   ]
  }
 ],
 "metadata": {
  "interpreter": {
   "hash": "9ee1ad32b56d89343f866cbb24efe029c7376ac3acaed8ce40e8302e13a6cb77"
  },
  "kernelspec": {
   "display_name": "Python 3.8.10 ('venv': venv)",
   "language": "python",
   "name": "python3"
  },
  "language_info": {
   "codemirror_mode": {
    "name": "ipython",
    "version": 3
   },
   "file_extension": ".py",
   "mimetype": "text/x-python",
   "name": "python",
   "nbconvert_exporter": "python",
   "pygments_lexer": "ipython3",
   "version": "3.8.10"
  },
  "orig_nbformat": 4
 },
 "nbformat": 4,
 "nbformat_minor": 2
}
