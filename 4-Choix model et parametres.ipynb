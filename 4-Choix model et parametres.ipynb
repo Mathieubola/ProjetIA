{
 "cells": [
  {
   "cell_type": "code",
   "execution_count": 26,
   "metadata": {},
   "outputs": [],
   "source": [
    "import pandas as pd\n",
    "import numpy as np\n",
    "import matplotlib.pyplot as plt\n",
    "\n",
    "import warnings\n",
    "from sklearn.exceptions import DataConversionWarning\n",
    "warnings.filterwarnings(action='ignore', category=DataConversionWarning)\n",
    "\n",
    "main_dataset_prepared = pd.read_excel(\"./buffer/2-main_dataset_prepared.xlsx\")\n",
    "main_dataset_prepared.drop(columns=main_dataset_prepared.columns[0], axis=1, inplace=True)"
   ]
  },
  {
   "cell_type": "code",
   "execution_count": 27,
   "metadata": {},
   "outputs": [],
   "source": [
    "X = main_dataset_prepared.drop(columns=[\"Attrition_No\", \"Attrition_Yes\"], axis=1)\n",
    "y = main_dataset_prepared[\"Attrition_Yes\"]"
   ]
  },
  {
   "cell_type": "code",
   "execution_count": 28,
   "metadata": {},
   "outputs": [],
   "source": [
    "from sklearn.model_selection import train_test_split\n",
    "X_train, X_test, y_train, y_test  = train_test_split(X, y, test_size=.2,  random_state=0)"
   ]
  },
  {
   "cell_type": "markdown",
   "metadata": {},
   "source": [
    "## Choix du model\n",
    "\n",
    "On notes les models selon leurs performances et si les coefficient des parametes d'entrées sont disponibles"
   ]
  },
  {
   "cell_type": "code",
   "execution_count": 29,
   "metadata": {},
   "outputs": [
    {
     "name": "stdout",
     "output_type": "stream",
     "text": [
      "Nearest Neighbors: 0.8775510204081632  |  coeff unavailable\n",
      "Linear SVM: 0.8356009070294784  |  coeff available\n",
      "RBF SVM: 0.9149659863945578  |  coeff unavailable\n",
      "Decision Tree: 0.9750566893424036  |  coeff unavailable\n",
      "Random Forest: 0.9852607709750567  |  coeff unavailable\n",
      "AdaBoost: 0.8537414965986394  |  coeff unavailable\n",
      "Logistic Regression: 0.8469387755102041  |  coeff available\n",
      "Passive Aggressive Classifier: 0.7494331065759637  |  coeff available\n",
      "Perceptron: 0.8253968253968254  |  coeff available\n",
      "Ridge Classifier: 0.854875283446712  |  coeff available\n"
     ]
    }
   ],
   "source": [
    "from sklearn.neighbors import KNeighborsClassifier\n",
    "from sklearn.svm import SVC\n",
    "from sklearn.tree import DecisionTreeClassifier\n",
    "from sklearn.ensemble import RandomForestClassifier, AdaBoostClassifier\n",
    "from sklearn.neural_network import MLPClassifier\n",
    "from sklearn.linear_model import LogisticRegression, PassiveAggressiveClassifier, Perceptron, RidgeClassifier\n",
    "\n",
    "dict_models = {\n",
    "    \"Nearest Neighbors\": KNeighborsClassifier(),\n",
    "    \"Linear SVM\": SVC(kernel=\"linear\",  random_state=0),\n",
    "    \"RBF SVM\": SVC(random_state=0),\n",
    "    \"Decision Tree\": DecisionTreeClassifier(random_state=0),\n",
    "    \"Random Forest\": RandomForestClassifier(random_state=0),\n",
    "    # \"Neural Net\": MLPClassifier(random_state=0),\n",
    "    \"AdaBoost\": AdaBoostClassifier(random_state=0),\n",
    "    \"Logistic Regression\": LogisticRegression(random_state=0),\n",
    "    \"Passive Aggressive Classifier\": PassiveAggressiveClassifier(random_state=0),\n",
    "    \"Perceptron\": Perceptron(random_state=0),\n",
    "    \"Ridge Classifier\": RidgeClassifier(random_state=0)\n",
    "}\n",
    "\n",
    "pertinent_model = {}\n",
    "pertinent_score= {}\n",
    "\n",
    "for name, model in dict_models.items():\n",
    "    model.fit(X_train, y_train)\n",
    "    score = model.score(X_test, y_test)\n",
    "    pertinent_score[name] = score\n",
    "    print(f\"{name}: {score}  |  \", end='')\n",
    "    if \"coef_\" in dir(model) and name != \"RBF SVM\":\n",
    "        print(\"coeff available\")\n",
    "        dict_coef = {}\n",
    "        for i in range(len(model.coef_[0])):\n",
    "            dict_coef[model.feature_names_in_[i]] = model.coef_[0][i]\n",
    "        pertinent_model[name] = dict(sorted(dict_coef.items(),key = lambda kv: kv[1], reverse=True))\n",
    "    else:\n",
    "        print(\"coeff unavailable\")"
   ]
  },
  {
   "cell_type": "code",
   "execution_count": 30,
   "metadata": {},
   "outputs": [
    {
     "name": "stdout",
     "output_type": "stream",
     "text": [
      "Linear SVM: 0.8356009070294784\n",
      "Logistic Regression: 0.8469387755102041\n",
      "Passive Aggressive Classifier: 0.7494331065759637\n",
      "Perceptron: 0.8253968253968254\n",
      "Ridge Classifier: 0.854875283446712\n"
     ]
    }
   ],
   "source": [
    "for name in pertinent_model.keys():\n",
    "    print(f\"{name}: {pertinent_score[name]}\")"
   ]
  },
  {
   "cell_type": "markdown",
   "metadata": {},
   "source": [
    "## Choix des paramètres"
   ]
  },
  {
   "cell_type": "code",
   "execution_count": 31,
   "metadata": {},
   "outputs": [],
   "source": [
    "from sklearn.model_selection import GridSearchCV\n",
    "\n",
    "def GridSearch(param_grid_dict, dict_models):\n",
    "    bel = {}\n",
    "\n",
    "    for name, param_grid in param_grid_dict.items():\n",
    "        model = dict_models[name]\n",
    "        gs = GridSearchCV(model, param_grid)\n",
    "        gs.fit(X_train, y_train)\n",
    "        score = gs.score(X_test, y_test)\n",
    "        bel[name] = (score, gs.best_params_)\n",
    "\n",
    "    return bel"
   ]
  },
  {
   "cell_type": "code",
   "execution_count": 49,
   "metadata": {},
   "outputs": [],
   "source": [
    "param_grid_dict = {\n",
    "    'Linear SVM': {\n",
    "        'C': np.arange(0.0001, 0.001, 0.0001),\n",
    "        'gamma': ['scale'] #, 'auto']\n",
    "    },\n",
    "    'Logistic Regression': {\n",
    "        'penalty': ['l2'], # 'l1', 'l2', 'elasticnet', 'none'],\n",
    "        'C': [0.15] # np.arange(0.05, 0.3, 0.05)\n",
    "    },\n",
    "    'Passive Aggressive Classifier': {\n",
    "        'C': np.arange(0.0001, 0.001, 0.0001)\n",
    "    },\n",
    "    'Perceptron': {\n",
    "        'penalty': ['l2']#, 'l1', 'elasticnet'],\n",
    "    },\n",
    "    'Ridge Classifier': {\n",
    "        'alpha': np.arange(0.0001, 0.001, 0.0001)\n",
    "    }\n",
    "}"
   ]
  },
  {
   "cell_type": "code",
   "execution_count": 50,
   "metadata": {},
   "outputs": [],
   "source": [
    "best_estimator_list = GridSearch(param_grid_dict, dict_models)"
   ]
  },
  {
   "cell_type": "code",
   "execution_count": 51,
   "metadata": {},
   "outputs": [
    {
     "data": {
      "text/plain": [
       "{'Linear SVM': (0.8356009070294784, {'C': 0.0001, 'gamma': 'scale'}),\n",
       " 'Logistic Regression': (0.8503401360544217, {'C': 0.15, 'penalty': 'l2'}),\n",
       " 'Passive Aggressive Classifier': (0.8356009070294784, {'C': 0.0001}),\n",
       " 'Perceptron': (0.8174603174603174, {'penalty': 'l2'}),\n",
       " 'Ridge Classifier': (0.854875283446712, {'alpha': 0.0001})}"
      ]
     },
     "execution_count": 51,
     "metadata": {},
     "output_type": "execute_result"
    }
   ],
   "source": [
    "best_estimator_list"
   ]
  },
  {
   "cell_type": "code",
   "execution_count": 81,
   "metadata": {},
   "outputs": [
    {
     "data": {
      "text/plain": [
       "{'MaritalStatus_Single': 0.1780875006597886,\n",
       " 'JobRole_Research Director': 0.15936865978921688,\n",
       " 'BusinessTravel_Travel_Frequently': 0.15458506486145607,\n",
       " 'Department_Human Resources': 0.13113971868694266,\n",
       " 'EducationField_Human Resources': 0.11709982166249042,\n",
       " 'YearsSinceLastPromotion': 0.07924621822945982,\n",
       " 'NumCompaniesWorked': 0.07197777955160167,\n",
       " 'Average': 0.0713808518657956,\n",
       " 'Standard deviation': 0.06769341775964487,\n",
       " 'JobRole_Sales Executive': 0.038264195137925616,\n",
       " 'YearsAtCompany': 0.032982758029673244,\n",
       " 'JobRole_Research Scientist': 0.027532049168694273,\n",
       " 'EducationField_Life Sciences': 0.02166180636065175,\n",
       " 'JobRole_Laboratory Technician': 0.02158549562184055,\n",
       " 'PercentSalaryHike': 0.01733664497359336,\n",
       " 'Gender_Male': 0.014886853216827414,\n",
       " 'JobRole_Human Resources': 0.006182213630697917,\n",
       " 'EducationField_Marketing': -0.0015951897875500268,\n",
       " 'DistanceFromHome': -0.0017953655326150052,\n",
       " 'PerformanceRating': -0.0043904931214509835,\n",
       " 'nb days off': -0.005667997858628496,\n",
       " 'MonthlyIncome': -0.012341920849430121,\n",
       " 'EducationField_Medical': -0.01427559846472397,\n",
       " 'JobLevel': -0.014495848758909888,\n",
       " 'Gender_Female': -0.01488685321680757,\n",
       " 'BusinessTravel_Travel_Rarely': -0.019362829652611213,\n",
       " 'JobInvolvement': -0.021954508623045488,\n",
       " 'Education': -0.02274980443540702,\n",
       " 'StockOptionLevel': -0.023135815229988786,\n",
       " 'JobRole_Manager': -0.027564270759276473,\n",
       " 'JobRole_Healthcare Representative': -0.03434735646415846,\n",
       " 'TrainingTimesLastYear': -0.040807286059620425,\n",
       " 'EducationField_Other': -0.0479573542370485,\n",
       " 'WorkLifeBalance': -0.05472293911701687,\n",
       " 'Department_Research & Development': -0.058921457947912044,\n",
       " 'JobRole_Sales Representative': -0.0715188129919744,\n",
       " 'Department_Sales': -0.07221826073953984,\n",
       " 'MaritalStatus_Married': -0.0733778533533373,\n",
       " 'EducationField_Technical Degree': -0.07493348553366196,\n",
       " 'Age': -0.07634784663785836,\n",
       " 'EnvironmentSatisfaction': -0.07948740877872905,\n",
       " 'JobSatisfaction': -0.08267908638905944,\n",
       " 'TotalWorkingYears': -0.09107343822291274,\n",
       " 'MaritalStatus_Divorced': -0.10470964730915722,\n",
       " 'YearsWithCurrManager': -0.10776452474173977,\n",
       " 'JobRole_Manufacturing Director': -0.1195021731335195,\n",
       " 'BusinessTravel_Non-Travel': -0.13522223520886967}"
      ]
     },
     "execution_count": 81,
     "metadata": {},
     "output_type": "execute_result"
    }
   ],
   "source": [
    "coefs = dict_models['Ridge Classifier'].coef_\n",
    "dict_coef = {X.columns[i]:coefs[0][i] for i in range(len(coefs[0]))}\n",
    "dict_coef\n",
    "dict(sorted(dict_coef.items(),key= lambda x:x[1], reverse=True))"
   ]
  }
 ],
 "metadata": {
  "interpreter": {
   "hash": "9ee1ad32b56d89343f866cbb24efe029c7376ac3acaed8ce40e8302e13a6cb77"
  },
  "kernelspec": {
   "display_name": "Python 3.8.10 ('venv': venv)",
   "language": "python",
   "name": "python3"
  },
  "language_info": {
   "codemirror_mode": {
    "name": "ipython",
    "version": 3
   },
   "file_extension": ".py",
   "mimetype": "text/x-python",
   "name": "python",
   "nbconvert_exporter": "python",
   "pygments_lexer": "ipython3",
   "version": "3.8.10"
  },
  "orig_nbformat": 4
 },
 "nbformat": 4,
 "nbformat_minor": 2
}
