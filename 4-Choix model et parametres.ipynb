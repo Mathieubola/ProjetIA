{
 "cells": [
  {
   "cell_type": "code",
   "execution_count": 2,
   "metadata": {},
   "outputs": [],
   "source": [
    "import pandas as pd\n",
    "import numpy as np\n",
    "import matplotlib.pyplot as plt\n",
    "\n",
    "import warnings\n",
    "from sklearn.exceptions import DataConversionWarning\n",
    "warnings.filterwarnings(action='ignore', category=DataConversionWarning)\n",
    "\n",
    "main_dataset_prepared = pd.read_excel(\"./buffer/2-main_dataset_prepared.xlsx\")\n",
    "main_dataset_prepared.drop(columns=main_dataset_prepared.columns[0], axis=1, inplace=True)"
   ]
  },
  {
   "cell_type": "code",
   "execution_count": 3,
   "metadata": {},
   "outputs": [],
   "source": [
    "X = main_dataset_prepared.drop(columns=[\"Attrition_No\", \"Attrition_Yes\"], axis=1)\n",
    "y = main_dataset_prepared[\"Attrition_Yes\"]"
   ]
  },
  {
   "cell_type": "code",
   "execution_count": 4,
   "metadata": {},
   "outputs": [],
   "source": [
    "from sklearn.model_selection import train_test_split\n",
    "X_train, X_test, y_train, y_test  = train_test_split(X, y, test_size=.2,  random_state=0)"
   ]
  },
  {
   "cell_type": "markdown",
   "metadata": {},
   "source": [
    "## Choix du model\n",
    "\n",
    "On notes les models selon leurs performances et si les coefficient des parametes d'entrées sont disponibles"
   ]
  },
  {
   "cell_type": "code",
   "execution_count": 5,
   "metadata": {},
   "outputs": [
    {
     "name": "stdout",
     "output_type": "stream",
     "text": [
      "Nearest Neighbors: 0.8696145124716553  |  coeff unavailable\n",
      "Linear SVM: 0.8356009070294784  |  coeff available\n",
      "RBF SVM: 0.9126984126984127  |  coeff unavailable\n",
      "Decision Tree: 0.9773242630385488  |  coeff unavailable\n",
      "Random Forest: 0.9875283446712018  |  coeff unavailable\n",
      "AdaBoost: 0.8571428571428571  |  coeff unavailable\n",
      "Logistic Regression: 0.8469387755102041  |  coeff available\n",
      "Passive Aggressive Classifier: 0.7993197278911565  |  coeff available\n",
      "Perceptron: 0.8231292517006803  |  coeff available\n",
      "Ridge Classifier: 0.854875283446712  |  coeff available\n"
     ]
    }
   ],
   "source": [
    "from sklearn.neighbors import KNeighborsClassifier\n",
    "from sklearn.svm import SVC\n",
    "from sklearn.tree import DecisionTreeClassifier\n",
    "from sklearn.ensemble import RandomForestClassifier, AdaBoostClassifier\n",
    "from sklearn.neural_network import MLPClassifier\n",
    "from sklearn.linear_model import LogisticRegression, PassiveAggressiveClassifier, Perceptron, RidgeClassifier\n",
    "\n",
    "dict_models = {\n",
    "    \"Nearest Neighbors\": KNeighborsClassifier(),\n",
    "    \"Linear SVM\": SVC(kernel=\"linear\",  random_state=0),\n",
    "    \"RBF SVM\": SVC(random_state=0),\n",
    "    \"Decision Tree\": DecisionTreeClassifier(random_state=0),\n",
    "    \"Random Forest\": RandomForestClassifier(random_state=0),\n",
    "    # \"Neural Net\": MLPClassifier(random_state=0),\n",
    "    \"AdaBoost\": AdaBoostClassifier(random_state=0),\n",
    "    \"Logistic Regression\": LogisticRegression(random_state=0),\n",
    "    \"Passive Aggressive Classifier\": PassiveAggressiveClassifier(random_state=0),\n",
    "    \"Perceptron\": Perceptron(random_state=0),\n",
    "    \"Ridge Classifier\": RidgeClassifier(random_state=0)\n",
    "}\n",
    "\n",
    "pertinent_model = {}\n",
    "pertinent_score= {}\n",
    "\n",
    "for name, model in dict_models.items():\n",
    "    model.fit(X_train, y_train)\n",
    "    score = model.score(X_test, y_test)\n",
    "    pertinent_score[name] = score\n",
    "    print(f\"{name}: {score}  |  \", end='')\n",
    "    if \"coef_\" in dir(model) and name != \"RBF SVM\":\n",
    "        print(\"coeff available\")\n",
    "        dict_coef = {}\n",
    "        for i in range(len(model.coef_[0])):\n",
    "            dict_coef[model.feature_names_in_[i]] = model.coef_[0][i]\n",
    "        pertinent_model[name] = dict(sorted(dict_coef.items(),key = lambda kv: kv[1], reverse=True))\n",
    "    else:\n",
    "        print(\"coeff unavailable\")"
   ]
  },
  {
   "cell_type": "code",
   "execution_count": 6,
   "metadata": {},
   "outputs": [
    {
     "name": "stdout",
     "output_type": "stream",
     "text": [
      "Linear SVM: 0.8356009070294784\n",
      "Logistic Regression: 0.8469387755102041\n",
      "Passive Aggressive Classifier: 0.7993197278911565\n",
      "Perceptron: 0.8231292517006803\n",
      "Ridge Classifier: 0.854875283446712\n"
     ]
    }
   ],
   "source": [
    "for name in pertinent_model.keys():\n",
    "    print(f\"{name}: {pertinent_score[name]}\")"
   ]
  },
  {
   "cell_type": "markdown",
   "metadata": {},
   "source": [
    "## Choix des paramètres"
   ]
  },
  {
   "cell_type": "code",
   "execution_count": 7,
   "metadata": {},
   "outputs": [],
   "source": [
    "from sklearn.model_selection import GridSearchCV\n",
    "\n",
    "def GridSearch(param_grid_dict, dict_models):\n",
    "    bel = {}\n",
    "\n",
    "    for name, param_grid in param_grid_dict.items():\n",
    "        model = dict_models[name]\n",
    "        gs = GridSearchCV(model, param_grid)\n",
    "        gs.fit(X_train, y_train)\n",
    "        score = gs.score(X_test, y_test)\n",
    "        bel[name] = (score, gs.best_params_)\n",
    "\n",
    "    return bel"
   ]
  },
  {
   "cell_type": "code",
   "execution_count": 8,
   "metadata": {},
   "outputs": [],
   "source": [
    "param_grid_dict = {\n",
    "    'Linear SVM': {\n",
    "        'C': np.arange(0.0001, 0.001, 0.0001),\n",
    "        'gamma': ['scale'] #, 'auto']\n",
    "    },\n",
    "    'Logistic Regression': {\n",
    "        'penalty': ['l2'], # 'l1', 'l2', 'elasticnet', 'none'],\n",
    "        'C': [0.15] # np.arange(0.05, 0.3, 0.05)\n",
    "    },\n",
    "    'Passive Aggressive Classifier': {\n",
    "        'C': np.arange(0.0001, 0.001, 0.0001)\n",
    "    },\n",
    "    'Perceptron': {\n",
    "        'penalty': ['l2']#, 'l1', 'elasticnet'],\n",
    "    },\n",
    "    'Ridge Classifier': {\n",
    "        'alpha': np.arange(0.0001, 0.001, 0.0001)\n",
    "    }\n",
    "}"
   ]
  },
  {
   "cell_type": "code",
   "execution_count": 9,
   "metadata": {},
   "outputs": [],
   "source": [
    "best_estimator_list = GridSearch(param_grid_dict, dict_models)"
   ]
  },
  {
   "cell_type": "code",
   "execution_count": 10,
   "metadata": {},
   "outputs": [
    {
     "data": {
      "text/plain": [
       "{'Linear SVM': (0.8356009070294784, {'C': 0.0001, 'gamma': 'scale'}),\n",
       " 'Logistic Regression': (0.8503401360544217, {'C': 0.15, 'penalty': 'l2'}),\n",
       " 'Passive Aggressive Classifier': (0.8356009070294784, {'C': 0.0001}),\n",
       " 'Perceptron': (0.8401360544217688, {'penalty': 'l2'}),\n",
       " 'Ridge Classifier': (0.854875283446712, {'alpha': 0.0001})}"
      ]
     },
     "execution_count": 10,
     "metadata": {},
     "output_type": "execute_result"
    }
   ],
   "source": [
    "best_estimator_list"
   ]
  },
  {
   "cell_type": "code",
   "execution_count": 11,
   "metadata": {},
   "outputs": [
    {
     "data": {
      "text/plain": [
       "{'MaritalStatus_Single': 0.177871022937278,\n",
       " 'JobRole_Research Director': 0.15911623446805526,\n",
       " 'BusinessTravel_Travel_Frequently': 0.15457706076457225,\n",
       " 'Average': 0.1397285725745139,\n",
       " 'BusinessTravel_Non-Travel': -0.13581108190023836,\n",
       " 'Department_Human Resources': 0.1308144803876125,\n",
       " 'JobRole_Manufacturing Director': -0.11950942223267169,\n",
       " 'EducationField_Human Resources': 0.11693258453327932,\n",
       " 'YearsWithCurrManager': -0.10802154582812973,\n",
       " 'MaritalStatus_Divorced': -0.10434990358101913,\n",
       " 'TotalWorkingYears': -0.0911218632026282,\n",
       " 'JobSatisfaction': -0.08264923114376013,\n",
       " 'EnvironmentSatisfaction': -0.07955329278952465,\n",
       " 'YearsSinceLastPromotion': 0.07909153252641021,\n",
       " 'Age': -0.07641499406268192,\n",
       " 'EducationField_Technical Degree': -0.07456548802041216,\n",
       " 'MaritalStatus_Married': -0.07352111935549208,\n",
       " 'Department_Sales': -0.07215873953840446,\n",
       " 'NumCompaniesWorked': 0.07213806537936551,\n",
       " 'JobRole_Sales Representative': -0.07116772343117221,\n",
       " 'Department_Research & Development': -0.05865574084931966,\n",
       " 'WorkLifeBalance': -0.05485109206617313,\n",
       " 'EducationField_Other': -0.048390732789837666,\n",
       " 'TrainingTimesLastYear': -0.04079063349002732,\n",
       " 'JobRole_Sales Executive': 0.03792465137004308,\n",
       " 'JobRole_Healthcare Representative': -0.034122910695212706,\n",
       " 'YearsAtCompany': 0.03347698925471111,\n",
       " 'JobRole_Manager': -0.02856462162332339,\n",
       " 'JobRole_Research Scientist': 0.027674498312899327,\n",
       " 'StockOptionLevel': -0.023279029160278717,\n",
       " 'Education': -0.022992145495049392,\n",
       " 'JobInvolvement': -0.02197514785831346,\n",
       " 'EducationField_Life Sciences': 0.021827837446568014,\n",
       " 'JobRole_Laboratory Technician': 0.02166170190515564,\n",
       " 'BusinessTravel_Travel_Rarely': -0.018765978859397427,\n",
       " 'PercentSalaryHike': 0.017394251805506997,\n",
       " 'Gender_Male': 0.015001568214782587,\n",
       " 'Gender_Female': -0.015001568214500367,\n",
       " 'JobLevel': -0.014380104076034817,\n",
       " 'EducationField_Medical': -0.014310234011881879,\n",
       " 'MonthlyIncome': -0.012306606227603085,\n",
       " 'JobRole_Human Resources': 0.006987591924915547,\n",
       " 'PerformanceRating': -0.004382629930220473,\n",
       " 'DistanceFromHome': -0.0017810975862307368,\n",
       " 'EducationField_Marketing': -0.001493967158085417,\n",
       " 'nb days off': -0.0011835061443797518,\n",
       " 'Standard deviation': 0.00020049032470554828}"
      ]
     },
     "execution_count": 11,
     "metadata": {},
     "output_type": "execute_result"
    }
   ],
   "source": [
    "coefs = dict_models['Ridge Classifier'].coef_\n",
    "dict_coef = {X.columns[i]:coefs[0][i] for i in range(len(coefs[0]))}\n",
    "dict_coef\n",
    "dict(sorted(dict_coef.items(),key= lambda x:abs(x[1]), reverse=True))"
   ]
  },
  {
   "cell_type": "markdown",
   "metadata": {},
   "source": [
    "Erreur et perte"
   ]
  },
  {
   "cell_type": "code",
   "execution_count": 12,
   "metadata": {},
   "outputs": [
    {
     "name": "stdout",
     "output_type": "stream",
     "text": [
      "Root mean squared error :  0.16148404721726828\n",
      "Mean absolute error : 0.026077097505668934\n",
      "Zero One Loss :  0.02607709750566889\n"
     ]
    }
   ],
   "source": [
    "from sklearn.metrics import mean_squared_error\n",
    "\n",
    "#classifier = LogisticRegression(C=0.15, penalty=\"l2\")\n",
    "classifier = RandomForestClassifier(n_estimators=10, random_state=42)\n",
    "classifier = classifier.fit(X_train, y_train)\n",
    "y_pred = classifier.predict(X_test)\n",
    "\n",
    "rmse = mean_squared_error(y_test, y_pred, squared = False)\n",
    "print('Root mean squared error : ', rmse)\n",
    "\n",
    "from sklearn.metrics import mean_absolute_error\n",
    "\n",
    "mae = mean_absolute_error(y_test, y_pred)\n",
    "print('Mean absolute error :', mae)\n",
    "\n",
    "from sklearn.metrics import zero_one_loss\n",
    "\n",
    "print('Zero One Loss : ', zero_one_loss(y_test, y_pred))"
   ]
  },
  {
   "cell_type": "markdown",
   "metadata": {},
   "source": [
    "Matrice de confusion"
   ]
  },
  {
   "cell_type": "code",
   "execution_count": 13,
   "metadata": {},
   "outputs": [
    {
     "name": "stdout",
     "output_type": "stream",
     "text": [
      "            predicted_No  predicted_Yes\n",
      "actual_No            737              0\n",
      "actual_Yes            23            122\n"
     ]
    }
   ],
   "source": [
    "from sklearn.metrics import confusion_matrix\n",
    "\n",
    "print(pd.DataFrame(confusion_matrix(y_test, y_pred), columns= ['predicted_No', 'predicted_Yes'], index=['actual_No', 'actual_Yes']))"
   ]
  },
  {
   "cell_type": "code",
   "execution_count": 14,
   "metadata": {},
   "outputs": [
    {
     "name": "stderr",
     "output_type": "stream",
     "text": [
      "C:\\Users\\Sevket\\AppData\\Local\\Packages\\PythonSoftwareFoundation.Python.3.10_qbz5n2kfra8p0\\LocalCache\\local-packages\\Python310\\site-packages\\sklearn\\utils\\deprecation.py:87: FutureWarning: Function plot_confusion_matrix is deprecated; Function `plot_confusion_matrix` is deprecated in 1.0 and will be removed in 1.2. Use one of the class methods: ConfusionMatrixDisplay.from_predictions or ConfusionMatrixDisplay.from_estimator.\n",
      "  warnings.warn(msg, category=FutureWarning)\n"
     ]
    },
    {
     "data": {
      "image/png": "[encoded data removed]",
      "text/plain": [
       "<Figure size 432x288 with 2 Axes>"
      ]
     },
     "metadata": {
      "needs_background": "light"
     },
     "output_type": "display_data"
    }
   ],
   "source": [
    "from sklearn import metrics \n",
    "\n",
    "metrics.plot_confusion_matrix(classifier, X_test, y_test)  \n",
    "plt.show()"
   ]
  },
  {
   "cell_type": "code",
   "execution_count": 23,
   "metadata": {},
   "outputs": [
    {
     "name": "stdout",
     "output_type": "stream",
     "text": [
      "Classifier Score : 0.9739229024943311\n",
      "Precision Score : 1.0\n",
      "Recall Score :  0.8413793103448276\n",
      "Average Precision Score :  0.8674564078504965\n",
      "F1 Score :  0.9138576779026217\n",
      "F Beta Score :  0.9636650868878358\n"
     ]
    }
   ],
   "source": [
    "from sklearn.metrics import precision_score, recall_score, average_precision_score, f1_score, fbeta_score\n",
    "\n",
    "#Score of our classifier\n",
    "clf_score = classifier.score(X_test, y_test)\n",
    "print('Classifier Score :', clf_score)\n",
    "\n",
    "#Precision of our score\n",
    "print('Precision Score :', precision_score(y_test, y_pred))\n",
    "\n",
    "# Recall of our score\n",
    "print('Recall Score : ', recall_score(y_test, y_pred))\n",
    "\n",
    "# Score of the average precision\n",
    "print('Average Precision Score : ', average_precision_score(y_test, y_pred))\n",
    "\n",
    "# F1 Score\n",
    "scoref1 = f1_score(y_test, y_pred)\n",
    "print('F1 Score : ', scoref1)\n",
    "\n",
    "# F Beta Score\n",
    "print('F Beta Score : ', fbeta_score(y_test, y_pred, beta= 0.5))"
   ]
  },
  {
   "cell_type": "markdown",
   "metadata": {},
   "source": [
    "Cross validation"
   ]
  },
  {
   "cell_type": "code",
   "execution_count": 22,
   "metadata": {},
   "outputs": [
    {
     "name": "stdout",
     "output_type": "stream",
     "text": [
      "Cross validation de:  {'fit_time': array([0.0787909 , 0.07179427, 0.05584979, 0.05285931, 0.0488708 ]), 'score_time': array([0.00599718, 0.00598168, 0.00398946, 0.00399065, 0.00398898]), 'test_score': array([-0.00680272, -0.00453515, -0.00680272, -0.00453515, -0.00453515])}\n",
      "Prediction de la cross validation:  [0 1 0 ... 0 0 0]\n",
      "Score de la cross validation:  [0.99319728 0.99546485 0.99319728 0.99546485 0.99546485]\n"
     ]
    }
   ],
   "source": [
    "from sklearn.model_selection import cross_validate, cross_val_predict, cross_val_score\n",
    "\n",
    "for algo_name in dict_models.items():\n",
    "\talg = dict_models.items()[algo_name]\n",
    "\tf1_scoresu[algo_name] =  scoref1\n",
    "\n",
    "\tscores = pd.DataFrame({\n",
    "\t\t\"F1 Score\": f1_scoresu\n",
    "\t})\n",
    "\n",
    "cv = cross_validate(classifier, X, y, cv = 5, scoring = ('neg_mean_squared_error'))\n",
    "print('Cross validation de: ', cv)\n",
    "\n",
    "cv_predict = cross_val_predict(classifier, X, y, cv = 5)\n",
    "print('Prediction de la cross validation: ', cv_predict)\n",
    "\n",
    "cv_score = cross_val_score(classifier, X, y, cv = 5)\n",
    "print('Score de la cross validation: ', cv_score)\n"
   ]
  }
 ],
 "metadata": {
  "interpreter": {
   "hash": "9ee1ad32b56d89343f866cbb24efe029c7376ac3acaed8ce40e8302e13a6cb77"
  },
  "kernelspec": {
   "display_name": "Python 3.8.10 ('venv': venv)",
   "language": "python",
   "name": "python3"
  },
  "language_info": {
   "codemirror_mode": {
    "name": "ipython",
    "version": 3
   },
   "file_extension": ".py",
   "mimetype": "text/x-python",
   "name": "python",
   "nbconvert_exporter": "python",
   "pygments_lexer": "ipython3",
   "version": "3.10.2"
  },
  "orig_nbformat": 4
 },
 "nbformat": 4,
 "nbformat_minor": 2
}
